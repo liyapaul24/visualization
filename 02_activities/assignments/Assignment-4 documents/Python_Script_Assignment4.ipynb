{
 "cells": [
  {
   "cell_type": "code",
   "execution_count": 20,
   "metadata": {},
   "outputs": [],
   "source": [
    "#Import Libraries\n",
    "import pandas as pd\n",
    "import matplotlib.pyplot as plt\n",
    "import seaborn as sns"
   ]
  },
  {
   "cell_type": "code",
   "execution_count": 21,
   "metadata": {},
   "outputs": [],
   "source": [
    "#Import the data. Read the sheets seperately.\n",
    "file_path = \"C:/Users/liyap/OneDrive/Documents/DSI UFT/assignment4/02_serviceontario_wait_times_in-person_apr2018-may2022.xlsx\"\n",
    "public_df = pd.read_excel(file_path, sheet_name= \"Publicly-Operated Offices\")\n",
    "private_df = pd.read_excel(file_path, sheet_name= \"Privately-Operated Offices\")\n"
   ]
  },
  {
   "cell_type": "code",
   "execution_count": 22,
   "metadata": {},
   "outputs": [
    {
     "name": "stdout",
     "output_type": "stream",
     "text": [
      "Publicly-Operated Offices Data:\n",
      "   Unnamed: 0  2018-04-15 00:00:00  2018-05-15 00:00:00  2018-06-15 00:00:00  \\\n",
      "0  Alexandria             0.871110             0.698635             0.885720   \n",
      "1    Atikokan             1.000000             1.000000             1.000000   \n",
      "2      Aurora             0.964573             0.865279             0.968245   \n",
      "3      Aylmer             0.962827             0.994772             0.943680   \n",
      "4    Bancroft             0.890628             0.760349             0.862743   \n",
      "\n",
      "   2018-07-15 00:00:00  2018-08-15 00:00:00  2018-09-15 00:00:00  \\\n",
      "0             0.781413             0.916876             0.984205   \n",
      "1             1.000000             1.000000             1.000000   \n",
      "2             0.998607             0.854681             0.505251   \n",
      "3             0.951010             0.832644             0.930190   \n",
      "4             0.999992             0.999992             0.999992   \n",
      "\n",
      "   2018-10-15 00:00:00  2018-11-15 00:00:00  2018-12-15 00:00:00  ...  \\\n",
      "0             0.975372             0.999073             0.997218  ...   \n",
      "1             1.000000             1.000000             1.000000  ...   \n",
      "2             0.141975             0.234743             0.224332  ...   \n",
      "3             0.924562             0.999992             0.999992  ...   \n",
      "4             0.999992             0.999992             0.999992  ...   \n",
      "\n",
      "   Aug. 2021  Sep. 2021  Oct. 2021  Nov. 2021  Dec. 2021  Jan. 2022  \\\n",
      "0   0.806452   0.791852   0.858926   0.793902   0.954281   1.000000   \n",
      "1   1.000000   1.000000   1.000000   1.000000   1.000000   1.000000   \n",
      "2   0.964029   0.972387   0.774531   0.957819   1.000000   0.949492   \n",
      "3   0.879873   0.739550   0.837734   0.875521   0.956553   1.000000   \n",
      "4   0.802927   0.643971   0.480413   0.671771   0.740991   0.684844   \n",
      "\n",
      "   Feb. 2022  Mar. 2022  Apr. 2022  May. 2022  \n",
      "0   1.000000   0.794992   0.545897   0.729224  \n",
      "1   1.000000   1.000000   1.000000   1.000000  \n",
      "2   0.997037   0.998915   0.778859   0.905574  \n",
      "3   0.955520   1.000000   0.881162   0.998920  \n",
      "4   0.796263   1.000000   0.831539   0.887673  \n",
      "\n",
      "[5 rows x 51 columns]\n"
     ]
    }
   ],
   "source": [
    "# Display the first few rows of Publicly-Operated Offices DataFrame\n",
    "print(\"Publicly-Operated Offices Data:\")\n",
    "print(public_df.head())\n"
   ]
  },
  {
   "cell_type": "code",
   "execution_count": 23,
   "metadata": {},
   "outputs": [
    {
     "name": "stdout",
     "output_type": "stream",
     "text": [
      "Privately-Operated Offices Data:\n",
      "                2018-04-15 00:00:00  2018-05-15 00:00:00  2018-06-15 00:00:00  \\\n",
      "0         Ajax             0.994276             0.950662             0.988589   \n",
      "1     Alliston             0.932826             0.981863             0.992407   \n",
      "2  Amherstburg             0.982065             0.984608             0.949894   \n",
      "3     Arnprior             0.955043             0.999997             1.000000   \n",
      "4       Aurora             1.000000             0.999948             0.997395   \n",
      "\n",
      "   2018-07-15 00:00:00  2018-08-15 00:00:00  2018-09-15 00:00:00  \\\n",
      "0             0.982088             0.982063             0.903082   \n",
      "1             0.993955             0.997734             0.992133   \n",
      "2             0.971210             0.964326             0.999152   \n",
      "3             0.994981             0.999989             0.995487   \n",
      "4             1.000000             0.999892             0.910746   \n",
      "\n",
      "   2018-10-15 00:00:00  2018-11-15 00:00:00  2018-12-15 00:00:00  ...  \\\n",
      "0             0.948973             0.986436             0.997233  ...   \n",
      "1             0.998889             0.999972             0.999004  ...   \n",
      "2             0.964737             0.970942             0.952444  ...   \n",
      "3             1.000000             0.917160                  NaN  ...   \n",
      "4             0.944458             0.999554             0.998653  ...   \n",
      "\n",
      "   Aug. 2021  Sep. 2021  Oct. 2021  Nov. 2021  Dec. 2021  Jan. 2022  \\\n",
      "0   0.898613   0.848938   0.775123   0.570099   0.942391   0.869822   \n",
      "1   0.996418   0.924764   0.945451   0.881670   1.000000   1.000000   \n",
      "2   0.675987   0.647346   0.774607   0.992123   1.000000   1.000000   \n",
      "3   0.991105   0.982412   1.000000   1.000000        NaN        NaN   \n",
      "4   0.979599   0.964851   0.944089   0.913661   0.949868   0.665341   \n",
      "\n",
      "   Feb. 2022  Mar. 2022  Apr. 2022  May. 2022  \n",
      "0   0.379473   0.871553   0.962768   0.923650  \n",
      "1   1.000000   0.998918   1.000000   1.000000  \n",
      "2   1.000000   1.000000   1.000000   1.000000  \n",
      "3        NaN        NaN        NaN        NaN  \n",
      "4   0.968193   0.940840   0.981392   0.968483  \n",
      "\n",
      "[5 rows x 51 columns]\n"
     ]
    }
   ],
   "source": [
    "# Display the first few rows of Privately-Operated Offices DataFrame\n",
    "print(\"Privately-Operated Offices Data:\")\n",
    "print(private_df.head())"
   ]
  },
  {
   "cell_type": "markdown",
   "metadata": {},
   "source": [
    "Data Cleaning of Publicly-Operated Offices DataFrame"
   ]
  },
  {
   "cell_type": "code",
   "execution_count": 24,
   "metadata": {},
   "outputs": [
    {
     "data": {
      "text/plain": [
       "(81, 51)"
      ]
     },
     "execution_count": 24,
     "metadata": {},
     "output_type": "execute_result"
    }
   ],
   "source": [
    "#Rows & colums in data set\n",
    "public_df.shape"
   ]
  },
  {
   "cell_type": "code",
   "execution_count": 25,
   "metadata": {},
   "outputs": [
    {
     "name": "stdout",
     "output_type": "stream",
     "text": [
      "<class 'pandas.core.frame.DataFrame'>\n",
      "RangeIndex: 81 entries, 0 to 80\n",
      "Data columns (total 51 columns):\n",
      " #   Column               Non-Null Count  Dtype  \n",
      "---  ------               --------------  -----  \n",
      " 0   Unnamed: 0           81 non-null     object \n",
      " 1   2018-04-15 00:00:00  81 non-null     float64\n",
      " 2   2018-05-15 00:00:00  81 non-null     float64\n",
      " 3   2018-06-15 00:00:00  81 non-null     float64\n",
      " 4   2018-07-15 00:00:00  81 non-null     float64\n",
      " 5   2018-08-15 00:00:00  81 non-null     float64\n",
      " 6   2018-09-15 00:00:00  81 non-null     float64\n",
      " 7   2018-10-15 00:00:00  81 non-null     float64\n",
      " 8   2018-11-15 00:00:00  81 non-null     float64\n",
      " 9   2018-12-15 00:00:00  81 non-null     float64\n",
      " 10  2019-01-15 00:00:00  81 non-null     float64\n",
      " 11  2019-02-15 00:00:00  81 non-null     float64\n",
      " 12  2019-03-15 00:00:00  81 non-null     float64\n",
      " 13  2019-04-15 00:00:00  81 non-null     float64\n",
      " 14  2019-05-15 00:00:00  81 non-null     float64\n",
      " 15  2019-06-15 00:00:00  80 non-null     float64\n",
      " 16  2019-07-15 00:00:00  80 non-null     float64\n",
      " 17  2019-08-15 00:00:00  80 non-null     float64\n",
      " 18  2019-09-15 00:00:00  80 non-null     float64\n",
      " 19  2019-10-15 00:00:00  80 non-null     float64\n",
      " 20  2019-11-15 00:00:00  80 non-null     float64\n",
      " 21  2019-12-15 00:00:00  81 non-null     float64\n",
      " 22  2020-01-15 00:00:00  81 non-null     float64\n",
      " 23  2020-02-15 00:00:00  81 non-null     float64\n",
      " 24  2020-03-15 00:00:00  81 non-null     float64\n",
      " 25  2020-04-15 00:00:00  76 non-null     float64\n",
      " 26  2020-05-15 00:00:00  78 non-null     float64\n",
      " 27  2020-06-15 00:00:00  78 non-null     float64\n",
      " 28  2020-07-15 00:00:00  81 non-null     float64\n",
      " 29  2020-08-15 00:00:00  80 non-null     float64\n",
      " 30  2020-09-15 00:00:00  71 non-null     float64\n",
      " 31  Oct. 2020            80 non-null     float64\n",
      " 32  2020-11-01 00:00:00  80 non-null     float64\n",
      " 33  Dec. 2020            80 non-null     float64\n",
      " 34  2021-01-01 00:00:00  80 non-null     float64\n",
      " 35  2021-02-01 00:00:00  81 non-null     float64\n",
      " 36  Mar. 2021            81 non-null     float64\n",
      " 37  2021-04-01 00:00:00  81 non-null     float64\n",
      " 38  2021-05-01 00:00:00  81 non-null     float64\n",
      " 39  June. 2021           81 non-null     float64\n",
      " 40  July. 2021           81 non-null     float64\n",
      " 41  Aug. 2021            81 non-null     float64\n",
      " 42  Sep. 2021            81 non-null     float64\n",
      " 43  Oct. 2021            81 non-null     float64\n",
      " 44  Nov. 2021            80 non-null     float64\n",
      " 45  Dec. 2021            80 non-null     float64\n",
      " 46  Jan. 2022            80 non-null     float64\n",
      " 47  Feb. 2022            79 non-null     float64\n",
      " 48  Mar. 2022            79 non-null     float64\n",
      " 49  Apr. 2022            80 non-null     float64\n",
      " 50  May. 2022            80 non-null     float64\n",
      "dtypes: float64(50), object(1)\n",
      "memory usage: 32.4+ KB\n"
     ]
    }
   ],
   "source": [
    "#Inspect column names and data types: \n",
    "public_df.info()"
   ]
  },
  {
   "cell_type": "code",
   "execution_count": 26,
   "metadata": {},
   "outputs": [
    {
     "data": {
      "text/plain": [
       "Unnamed: 0              0\n",
       "2018-04-15 00:00:00     0\n",
       "2018-05-15 00:00:00     0\n",
       "2018-06-15 00:00:00     0\n",
       "2018-07-15 00:00:00     0\n",
       "2018-08-15 00:00:00     0\n",
       "2018-09-15 00:00:00     0\n",
       "2018-10-15 00:00:00     0\n",
       "2018-11-15 00:00:00     0\n",
       "2018-12-15 00:00:00     0\n",
       "2019-01-15 00:00:00     0\n",
       "2019-02-15 00:00:00     0\n",
       "2019-03-15 00:00:00     0\n",
       "2019-04-15 00:00:00     0\n",
       "2019-05-15 00:00:00     0\n",
       "2019-06-15 00:00:00     1\n",
       "2019-07-15 00:00:00     1\n",
       "2019-08-15 00:00:00     1\n",
       "2019-09-15 00:00:00     1\n",
       "2019-10-15 00:00:00     1\n",
       "2019-11-15 00:00:00     1\n",
       "2019-12-15 00:00:00     0\n",
       "2020-01-15 00:00:00     0\n",
       "2020-02-15 00:00:00     0\n",
       "2020-03-15 00:00:00     0\n",
       "2020-04-15 00:00:00     5\n",
       "2020-05-15 00:00:00     3\n",
       "2020-06-15 00:00:00     3\n",
       "2020-07-15 00:00:00     0\n",
       "2020-08-15 00:00:00     1\n",
       "2020-09-15 00:00:00    10\n",
       "Oct. 2020               1\n",
       "2020-11-01 00:00:00     1\n",
       "Dec. 2020               1\n",
       "2021-01-01 00:00:00     1\n",
       "2021-02-01 00:00:00     0\n",
       "Mar. 2021               0\n",
       "2021-04-01 00:00:00     0\n",
       "2021-05-01 00:00:00     0\n",
       "June. 2021              0\n",
       "July. 2021              0\n",
       "Aug. 2021               0\n",
       "Sep. 2021               0\n",
       "Oct. 2021               0\n",
       "Nov. 2021               1\n",
       "Dec. 2021               1\n",
       "Jan. 2022               1\n",
       "Feb. 2022               2\n",
       "Mar. 2022               2\n",
       "Apr. 2022               1\n",
       "May. 2022               1\n",
       "dtype: int64"
      ]
     },
     "execution_count": 26,
     "metadata": {},
     "output_type": "execute_result"
    }
   ],
   "source": [
    "#Finding the null value\n",
    "public_df.isnull().sum()"
   ]
  },
  {
   "cell_type": "code",
   "execution_count": 27,
   "metadata": {},
   "outputs": [
    {
     "data": {
      "text/plain": [
       "0"
      ]
     },
     "execution_count": 27,
     "metadata": {},
     "output_type": "execute_result"
    }
   ],
   "source": [
    "#Finding the duplicated value\n",
    "public_df.duplicated().sum()"
   ]
  },
  {
   "cell_type": "code",
   "execution_count": 28,
   "metadata": {},
   "outputs": [
    {
     "name": "stdout",
     "output_type": "stream",
     "text": [
      "       Centre  2018-04-15 00:00:00  2018-05-15 00:00:00  2018-06-15 00:00:00  \\\n",
      "0  Alexandria             0.871110             0.698635             0.885720   \n",
      "1    Atikokan             1.000000             1.000000             1.000000   \n",
      "2      Aurora             0.964573             0.865279             0.968245   \n",
      "3      Aylmer             0.962827             0.994772             0.943680   \n",
      "4    Bancroft             0.890628             0.760349             0.862743   \n",
      "\n",
      "   2018-07-15 00:00:00  2018-08-15 00:00:00  2018-09-15 00:00:00  \\\n",
      "0             0.781413             0.916876             0.984205   \n",
      "1             1.000000             1.000000             1.000000   \n",
      "2             0.998607             0.854681             0.505251   \n",
      "3             0.951010             0.832644             0.930190   \n",
      "4             0.999992             0.999992             0.999992   \n",
      "\n",
      "   2018-10-15 00:00:00  2018-11-15 00:00:00  2018-12-15 00:00:00  ...  \\\n",
      "0             0.975372             0.999073             0.997218  ...   \n",
      "1             1.000000             1.000000             1.000000  ...   \n",
      "2             0.141975             0.234743             0.224332  ...   \n",
      "3             0.924562             0.999992             0.999992  ...   \n",
      "4             0.999992             0.999992             0.999992  ...   \n",
      "\n",
      "   Aug. 2021  Sep. 2021  Oct. 2021  Nov. 2021  Dec. 2021  Jan. 2022  \\\n",
      "0   0.806452   0.791852   0.858926   0.793902   0.954281   1.000000   \n",
      "1   1.000000   1.000000   1.000000   1.000000   1.000000   1.000000   \n",
      "2   0.964029   0.972387   0.774531   0.957819   1.000000   0.949492   \n",
      "3   0.879873   0.739550   0.837734   0.875521   0.956553   1.000000   \n",
      "4   0.802927   0.643971   0.480413   0.671771   0.740991   0.684844   \n",
      "\n",
      "   Feb. 2022  Mar. 2022  Apr. 2022  May. 2022  \n",
      "0   1.000000   0.794992   0.545897   0.729224  \n",
      "1   1.000000   1.000000   1.000000   1.000000  \n",
      "2   0.997037   0.998915   0.778859   0.905574  \n",
      "3   0.955520   1.000000   0.881162   0.998920  \n",
      "4   0.796263   1.000000   0.831539   0.887673  \n",
      "\n",
      "[5 rows x 51 columns]\n"
     ]
    }
   ],
   "source": [
    "#Giving name to colum1\n",
    "public_df.rename(columns={public_df.columns[0]:\"Centre\"}, inplace=True)\n",
    "print(public_df.head())"
   ]
  },
  {
   "cell_type": "code",
   "execution_count": 29,
   "metadata": {},
   "outputs": [
    {
     "name": "stdout",
     "output_type": "stream",
     "text": [
      "Index(['Centre', 'Apr 2018', 'May 2018', 'Jun 2018', 'Jul 2018', 'Aug 2018',\n",
      "       'Sep 2018', 'Oct 2018', 'Nov 2018', 'Dec 2018', 'Jan 2019', 'Feb 2019',\n",
      "       'Mar 2019', 'Apr 2019', 'May 2019', 'Jun 2019', 'Jul 2019', 'Aug 2019',\n",
      "       'Sep 2019', 'Oct 2019', 'Nov 2019', 'Dec 2019', 'Jan 2020', 'Feb 2020',\n",
      "       'Mar 2020', 'Apr 2020', 'May 2020', 'Jun 2020', 'Jul 2020', 'Aug 2020',\n",
      "       'Sep 2020', 'Oct 2020', 'Nov 2020', 'Dec 2020', 'Jan 2021', 'Feb 2021',\n",
      "       'Mar 2021', 'Apr 2021', 'May 2021', 'Jun 2021', 'Jul 2021', 'Aug 2021',\n",
      "       'Sep 2021', 'Oct 2021', 'Nov 2021', 'Dec 2021', 'Jan 2022', 'Feb 2022',\n",
      "       'Mar 2022', 'Apr 2022', 'May 2022'],\n",
      "      dtype='object')\n"
     ]
    }
   ],
   "source": [
    "# Update column names to a short format\n",
    "public_df.columns = [\n",
    "    pd.to_datetime(col, errors='coerce').strftime('%b %Y') if pd.to_datetime(col, errors='coerce') is not pd.NaT else col\n",
    "    for col in public_df.columns\n",
    "]\n",
    "\n",
    "# Display the updated column names\n",
    "print(public_df.columns)\n",
    "\n"
   ]
  },
  {
   "cell_type": "code",
   "execution_count": 30,
   "metadata": {},
   "outputs": [
    {
     "data": {
      "text/html": [
       "<div>\n",
       "<style scoped>\n",
       "    .dataframe tbody tr th:only-of-type {\n",
       "        vertical-align: middle;\n",
       "    }\n",
       "\n",
       "    .dataframe tbody tr th {\n",
       "        vertical-align: top;\n",
       "    }\n",
       "\n",
       "    .dataframe thead th {\n",
       "        text-align: right;\n",
       "    }\n",
       "</style>\n",
       "<table border=\"1\" class=\"dataframe\">\n",
       "  <thead>\n",
       "    <tr style=\"text-align: right;\">\n",
       "      <th></th>\n",
       "      <th>Centre</th>\n",
       "      <th>Apr 2018</th>\n",
       "      <th>May 2018</th>\n",
       "      <th>Jun 2018</th>\n",
       "      <th>Jul 2018</th>\n",
       "      <th>Aug 2018</th>\n",
       "      <th>Sep 2018</th>\n",
       "      <th>Oct 2018</th>\n",
       "      <th>Nov 2018</th>\n",
       "      <th>Dec 2018</th>\n",
       "      <th>...</th>\n",
       "      <th>Aug 2021</th>\n",
       "      <th>Sep 2021</th>\n",
       "      <th>Oct 2021</th>\n",
       "      <th>Nov 2021</th>\n",
       "      <th>Dec 2021</th>\n",
       "      <th>Jan 2022</th>\n",
       "      <th>Feb 2022</th>\n",
       "      <th>Mar 2022</th>\n",
       "      <th>Apr 2022</th>\n",
       "      <th>May 2022</th>\n",
       "    </tr>\n",
       "  </thead>\n",
       "  <tbody>\n",
       "    <tr>\n",
       "      <th>0</th>\n",
       "      <td>Alexandria</td>\n",
       "      <td>0.871110</td>\n",
       "      <td>0.698635</td>\n",
       "      <td>0.885720</td>\n",
       "      <td>0.781413</td>\n",
       "      <td>0.916876</td>\n",
       "      <td>0.984205</td>\n",
       "      <td>0.975372</td>\n",
       "      <td>0.999073</td>\n",
       "      <td>0.997218</td>\n",
       "      <td>...</td>\n",
       "      <td>0.806452</td>\n",
       "      <td>0.791852</td>\n",
       "      <td>0.858926</td>\n",
       "      <td>0.793902</td>\n",
       "      <td>0.954281</td>\n",
       "      <td>1.000000</td>\n",
       "      <td>1.000000</td>\n",
       "      <td>0.794992</td>\n",
       "      <td>0.545897</td>\n",
       "      <td>0.729224</td>\n",
       "    </tr>\n",
       "    <tr>\n",
       "      <th>1</th>\n",
       "      <td>Atikokan</td>\n",
       "      <td>1.000000</td>\n",
       "      <td>1.000000</td>\n",
       "      <td>1.000000</td>\n",
       "      <td>1.000000</td>\n",
       "      <td>1.000000</td>\n",
       "      <td>1.000000</td>\n",
       "      <td>1.000000</td>\n",
       "      <td>1.000000</td>\n",
       "      <td>1.000000</td>\n",
       "      <td>...</td>\n",
       "      <td>1.000000</td>\n",
       "      <td>1.000000</td>\n",
       "      <td>1.000000</td>\n",
       "      <td>1.000000</td>\n",
       "      <td>1.000000</td>\n",
       "      <td>1.000000</td>\n",
       "      <td>1.000000</td>\n",
       "      <td>1.000000</td>\n",
       "      <td>1.000000</td>\n",
       "      <td>1.000000</td>\n",
       "    </tr>\n",
       "    <tr>\n",
       "      <th>2</th>\n",
       "      <td>Aurora</td>\n",
       "      <td>0.964573</td>\n",
       "      <td>0.865279</td>\n",
       "      <td>0.968245</td>\n",
       "      <td>0.998607</td>\n",
       "      <td>0.854681</td>\n",
       "      <td>0.505251</td>\n",
       "      <td>0.141975</td>\n",
       "      <td>0.234743</td>\n",
       "      <td>0.224332</td>\n",
       "      <td>...</td>\n",
       "      <td>0.964029</td>\n",
       "      <td>0.972387</td>\n",
       "      <td>0.774531</td>\n",
       "      <td>0.957819</td>\n",
       "      <td>1.000000</td>\n",
       "      <td>0.949492</td>\n",
       "      <td>0.997037</td>\n",
       "      <td>0.998915</td>\n",
       "      <td>0.778859</td>\n",
       "      <td>0.905574</td>\n",
       "    </tr>\n",
       "    <tr>\n",
       "      <th>3</th>\n",
       "      <td>Aylmer</td>\n",
       "      <td>0.962827</td>\n",
       "      <td>0.994772</td>\n",
       "      <td>0.943680</td>\n",
       "      <td>0.951010</td>\n",
       "      <td>0.832644</td>\n",
       "      <td>0.930190</td>\n",
       "      <td>0.924562</td>\n",
       "      <td>0.999992</td>\n",
       "      <td>0.999992</td>\n",
       "      <td>...</td>\n",
       "      <td>0.879873</td>\n",
       "      <td>0.739550</td>\n",
       "      <td>0.837734</td>\n",
       "      <td>0.875521</td>\n",
       "      <td>0.956553</td>\n",
       "      <td>1.000000</td>\n",
       "      <td>0.955520</td>\n",
       "      <td>1.000000</td>\n",
       "      <td>0.881162</td>\n",
       "      <td>0.998920</td>\n",
       "    </tr>\n",
       "    <tr>\n",
       "      <th>4</th>\n",
       "      <td>Bancroft</td>\n",
       "      <td>0.890628</td>\n",
       "      <td>0.760349</td>\n",
       "      <td>0.862743</td>\n",
       "      <td>0.999992</td>\n",
       "      <td>0.999992</td>\n",
       "      <td>0.999992</td>\n",
       "      <td>0.999992</td>\n",
       "      <td>0.999992</td>\n",
       "      <td>0.999992</td>\n",
       "      <td>...</td>\n",
       "      <td>0.802927</td>\n",
       "      <td>0.643971</td>\n",
       "      <td>0.480413</td>\n",
       "      <td>0.671771</td>\n",
       "      <td>0.740991</td>\n",
       "      <td>0.684844</td>\n",
       "      <td>0.796263</td>\n",
       "      <td>1.000000</td>\n",
       "      <td>0.831539</td>\n",
       "      <td>0.887673</td>\n",
       "    </tr>\n",
       "  </tbody>\n",
       "</table>\n",
       "<p>5 rows × 51 columns</p>\n",
       "</div>"
      ],
      "text/plain": [
       "       Centre  Apr 2018  May 2018  Jun 2018  Jul 2018  Aug 2018  Sep 2018  \\\n",
       "0  Alexandria  0.871110  0.698635  0.885720  0.781413  0.916876  0.984205   \n",
       "1    Atikokan  1.000000  1.000000  1.000000  1.000000  1.000000  1.000000   \n",
       "2      Aurora  0.964573  0.865279  0.968245  0.998607  0.854681  0.505251   \n",
       "3      Aylmer  0.962827  0.994772  0.943680  0.951010  0.832644  0.930190   \n",
       "4    Bancroft  0.890628  0.760349  0.862743  0.999992  0.999992  0.999992   \n",
       "\n",
       "   Oct 2018  Nov 2018  Dec 2018  ...  Aug 2021  Sep 2021  Oct 2021  Nov 2021  \\\n",
       "0  0.975372  0.999073  0.997218  ...  0.806452  0.791852  0.858926  0.793902   \n",
       "1  1.000000  1.000000  1.000000  ...  1.000000  1.000000  1.000000  1.000000   \n",
       "2  0.141975  0.234743  0.224332  ...  0.964029  0.972387  0.774531  0.957819   \n",
       "3  0.924562  0.999992  0.999992  ...  0.879873  0.739550  0.837734  0.875521   \n",
       "4  0.999992  0.999992  0.999992  ...  0.802927  0.643971  0.480413  0.671771   \n",
       "\n",
       "   Dec 2021  Jan 2022  Feb 2022  Mar 2022  Apr 2022  May 2022  \n",
       "0  0.954281  1.000000  1.000000  0.794992  0.545897  0.729224  \n",
       "1  1.000000  1.000000  1.000000  1.000000  1.000000  1.000000  \n",
       "2  1.000000  0.949492  0.997037  0.998915  0.778859  0.905574  \n",
       "3  0.956553  1.000000  0.955520  1.000000  0.881162  0.998920  \n",
       "4  0.740991  0.684844  0.796263  1.000000  0.831539  0.887673  \n",
       "\n",
       "[5 rows x 51 columns]"
      ]
     },
     "execution_count": 30,
     "metadata": {},
     "output_type": "execute_result"
    }
   ],
   "source": [
    "public_df.head()"
   ]
  },
  {
   "cell_type": "code",
   "execution_count": 31,
   "metadata": {},
   "outputs": [],
   "source": [
    "# Reshape the data\n",
    "new_public_df = pd.melt(\n",
    "    public_df,\n",
    "    id_vars=[\"Centre\"], \n",
    "    var_name=\"Month\",\n",
    "    value_name=\"Percentage_Waiting\"\n",
    ")"
   ]
  },
  {
   "cell_type": "code",
   "execution_count": 32,
   "metadata": {},
   "outputs": [
    {
     "name": "stdout",
     "output_type": "stream",
     "text": [
      "<class 'pandas.core.frame.DataFrame'>\n",
      "RangeIndex: 4050 entries, 0 to 4049\n",
      "Data columns (total 3 columns):\n",
      " #   Column              Non-Null Count  Dtype  \n",
      "---  ------              --------------  -----  \n",
      " 0   Centre              4050 non-null   object \n",
      " 1   Month               4050 non-null   object \n",
      " 2   Percentage_Waiting  4009 non-null   float64\n",
      "dtypes: float64(1), object(2)\n",
      "memory usage: 95.0+ KB\n"
     ]
    }
   ],
   "source": [
    "new_public_df.info()"
   ]
  },
  {
   "cell_type": "code",
   "execution_count": 33,
   "metadata": {},
   "outputs": [
    {
     "data": {
      "text/html": [
       "<div>\n",
       "<style scoped>\n",
       "    .dataframe tbody tr th:only-of-type {\n",
       "        vertical-align: middle;\n",
       "    }\n",
       "\n",
       "    .dataframe tbody tr th {\n",
       "        vertical-align: top;\n",
       "    }\n",
       "\n",
       "    .dataframe thead th {\n",
       "        text-align: right;\n",
       "    }\n",
       "</style>\n",
       "<table border=\"1\" class=\"dataframe\">\n",
       "  <thead>\n",
       "    <tr style=\"text-align: right;\">\n",
       "      <th></th>\n",
       "      <th>Centre</th>\n",
       "      <th>Month</th>\n",
       "      <th>Percentage_Waiting</th>\n",
       "    </tr>\n",
       "  </thead>\n",
       "  <tbody>\n",
       "    <tr>\n",
       "      <th>0</th>\n",
       "      <td>Alexandria</td>\n",
       "      <td>Apr 2018</td>\n",
       "      <td>0.871110</td>\n",
       "    </tr>\n",
       "    <tr>\n",
       "      <th>1</th>\n",
       "      <td>Atikokan</td>\n",
       "      <td>Apr 2018</td>\n",
       "      <td>1.000000</td>\n",
       "    </tr>\n",
       "    <tr>\n",
       "      <th>2</th>\n",
       "      <td>Aurora</td>\n",
       "      <td>Apr 2018</td>\n",
       "      <td>0.964573</td>\n",
       "    </tr>\n",
       "    <tr>\n",
       "      <th>3</th>\n",
       "      <td>Aylmer</td>\n",
       "      <td>Apr 2018</td>\n",
       "      <td>0.962827</td>\n",
       "    </tr>\n",
       "    <tr>\n",
       "      <th>4</th>\n",
       "      <td>Bancroft</td>\n",
       "      <td>Apr 2018</td>\n",
       "      <td>0.890628</td>\n",
       "    </tr>\n",
       "  </tbody>\n",
       "</table>\n",
       "</div>"
      ],
      "text/plain": [
       "       Centre     Month  Percentage_Waiting\n",
       "0  Alexandria  Apr 2018            0.871110\n",
       "1    Atikokan  Apr 2018            1.000000\n",
       "2      Aurora  Apr 2018            0.964573\n",
       "3      Aylmer  Apr 2018            0.962827\n",
       "4    Bancroft  Apr 2018            0.890628"
      ]
     },
     "execution_count": 33,
     "metadata": {},
     "output_type": "execute_result"
    }
   ],
   "source": [
    "new_public_df.head()"
   ]
  },
  {
   "cell_type": "code",
   "execution_count": 34,
   "metadata": {},
   "outputs": [
    {
     "data": {
      "text/plain": [
       "Centre                 0\n",
       "Month                  0\n",
       "Percentage_Waiting    41\n",
       "dtype: int64"
      ]
     },
     "execution_count": 34,
     "metadata": {},
     "output_type": "execute_result"
    }
   ],
   "source": [
    "new_public_df.isnull().sum()"
   ]
  },
  {
   "cell_type": "code",
   "execution_count": 35,
   "metadata": {},
   "outputs": [],
   "source": [
    "# Group by 'Centre' and calculate the mean for each center\n",
    "center_means = new_public_df.groupby('Centre')['Percentage_Waiting'].transform('mean')"
   ]
  },
  {
   "cell_type": "code",
   "execution_count": 36,
   "metadata": {},
   "outputs": [],
   "source": [
    "# Fill missing values with the mean of the specific center\n",
    "new_public_df['Percentage_Waiting'] = new_public_df['Percentage_Waiting'].fillna(center_means)\n"
   ]
  },
  {
   "cell_type": "code",
   "execution_count": 37,
   "metadata": {},
   "outputs": [
    {
     "data": {
      "text/plain": [
       "Centre                0\n",
       "Month                 0\n",
       "Percentage_Waiting    0\n",
       "dtype: int64"
      ]
     },
     "execution_count": 37,
     "metadata": {},
     "output_type": "execute_result"
    }
   ],
   "source": [
    "new_public_df.isnull().sum()"
   ]
  },
  {
   "cell_type": "markdown",
   "metadata": {},
   "source": [
    "Data Cleaning of Privately-Operated Offices DataFrame"
   ]
  },
  {
   "cell_type": "code",
   "execution_count": 38,
   "metadata": {},
   "outputs": [
    {
     "data": {
      "text/plain": [
       "(166, 51)"
      ]
     },
     "execution_count": 38,
     "metadata": {},
     "output_type": "execute_result"
    }
   ],
   "source": [
    "#Rows & colums in data set\n",
    "private_df.shape"
   ]
  },
  {
   "cell_type": "code",
   "execution_count": 39,
   "metadata": {},
   "outputs": [
    {
     "name": "stdout",
     "output_type": "stream",
     "text": [
      "<class 'pandas.core.frame.DataFrame'>\n",
      "RangeIndex: 166 entries, 0 to 165\n",
      "Data columns (total 51 columns):\n",
      " #   Column               Non-Null Count  Dtype  \n",
      "---  ------               --------------  -----  \n",
      " 0                        166 non-null    object \n",
      " 1   2018-04-15 00:00:00  157 non-null    float64\n",
      " 2   2018-05-15 00:00:00  159 non-null    float64\n",
      " 3   2018-06-15 00:00:00  161 non-null    float64\n",
      " 4   2018-07-15 00:00:00  162 non-null    float64\n",
      " 5   2018-08-15 00:00:00  163 non-null    float64\n",
      " 6   2018-09-15 00:00:00  162 non-null    float64\n",
      " 7   2018-10-15 00:00:00  161 non-null    float64\n",
      " 8   2018-11-15 00:00:00  160 non-null    float64\n",
      " 9   2018-12-15 00:00:00  154 non-null    float64\n",
      " 10  2019-01-15 00:00:00  157 non-null    float64\n",
      " 11  2019-02-15 00:00:00  158 non-null    float64\n",
      " 12  2019-03-15 00:00:00  156 non-null    float64\n",
      " 13  2019-04-15 00:00:00  155 non-null    float64\n",
      " 14  2019-05-15 00:00:00  154 non-null    float64\n",
      " 15  2019-06-15 00:00:00  155 non-null    float64\n",
      " 16  2019-07-15 00:00:00  155 non-null    float64\n",
      " 17  2019-08-15 00:00:00  156 non-null    float64\n",
      " 18  2019-09-15 00:00:00  157 non-null    float64\n",
      " 19  2019-10-15 00:00:00  155 non-null    float64\n",
      " 20  2019-11-15 00:00:00  155 non-null    float64\n",
      " 21  2019-12-15 00:00:00  156 non-null    float64\n",
      " 22  2020-01-15 00:00:00  155 non-null    float64\n",
      " 23  2020-02-15 00:00:00  153 non-null    float64\n",
      " 24  2020-03-15 00:00:00  153 non-null    float64\n",
      " 25  2020-04-15 00:00:00  2 non-null      float64\n",
      " 26  2020-05-15 00:00:00  4 non-null      float64\n",
      " 27  2020-06-15 00:00:00  4 non-null      float64\n",
      " 28  2020-07-15 00:00:00  4 non-null      float64\n",
      " 29  2020-08-15 00:00:00  4 non-null      float64\n",
      " 30  2020-09-15 00:00:00  4 non-null      float64\n",
      " 31  Oct. 2020            142 non-null    float64\n",
      " 32  2020-11-01 00:00:00  143 non-null    float64\n",
      " 33  Dec. 2020            138 non-null    float64\n",
      " 34  2021-01-01 00:00:00  132 non-null    float64\n",
      " 35  2021-02-01 00:00:00  132 non-null    float64\n",
      " 36  Mar. 2021            137 non-null    float64\n",
      " 37  2021-04-01 00:00:00  160 non-null    float64\n",
      " 38  2021-05-21 00:00:00  134 non-null    float64\n",
      " 39  June. 2021           136 non-null    float64\n",
      " 40  July. 2021           142 non-null    float64\n",
      " 41  Aug. 2021            143 non-null    float64\n",
      " 42  Sep. 2021            144 non-null    float64\n",
      " 43  Oct. 2021            145 non-null    float64\n",
      " 44  Nov. 2021            146 non-null    float64\n",
      " 45  Dec. 2021            144 non-null    float64\n",
      " 46  Jan. 2022            142 non-null    float64\n",
      " 47  Feb. 2022            141 non-null    float64\n",
      " 48  Mar. 2022            141 non-null    float64\n",
      " 49  Apr. 2022            143 non-null    float64\n",
      " 50  May. 2022            142 non-null    float64\n",
      "dtypes: float64(50), object(1)\n",
      "memory usage: 66.3+ KB\n"
     ]
    }
   ],
   "source": [
    "#Inspect column names and data types: \n",
    "private_df.info()"
   ]
  },
  {
   "cell_type": "code",
   "execution_count": 40,
   "metadata": {},
   "outputs": [
    {
     "data": {
      "text/plain": [
       "                         0\n",
       "2018-04-15 00:00:00      9\n",
       "2018-05-15 00:00:00      7\n",
       "2018-06-15 00:00:00      5\n",
       "2018-07-15 00:00:00      4\n",
       "2018-08-15 00:00:00      3\n",
       "2018-09-15 00:00:00      4\n",
       "2018-10-15 00:00:00      5\n",
       "2018-11-15 00:00:00      6\n",
       "2018-12-15 00:00:00     12\n",
       "2019-01-15 00:00:00      9\n",
       "2019-02-15 00:00:00      8\n",
       "2019-03-15 00:00:00     10\n",
       "2019-04-15 00:00:00     11\n",
       "2019-05-15 00:00:00     12\n",
       "2019-06-15 00:00:00     11\n",
       "2019-07-15 00:00:00     11\n",
       "2019-08-15 00:00:00     10\n",
       "2019-09-15 00:00:00      9\n",
       "2019-10-15 00:00:00     11\n",
       "2019-11-15 00:00:00     11\n",
       "2019-12-15 00:00:00     10\n",
       "2020-01-15 00:00:00     11\n",
       "2020-02-15 00:00:00     13\n",
       "2020-03-15 00:00:00     13\n",
       "2020-04-15 00:00:00    164\n",
       "2020-05-15 00:00:00    162\n",
       "2020-06-15 00:00:00    162\n",
       "2020-07-15 00:00:00    162\n",
       "2020-08-15 00:00:00    162\n",
       "2020-09-15 00:00:00    162\n",
       "Oct. 2020               24\n",
       "2020-11-01 00:00:00     23\n",
       "Dec. 2020               28\n",
       "2021-01-01 00:00:00     34\n",
       "2021-02-01 00:00:00     34\n",
       "Mar. 2021               29\n",
       "2021-04-01 00:00:00      6\n",
       "2021-05-21 00:00:00     32\n",
       "June. 2021              30\n",
       "July. 2021              24\n",
       "Aug. 2021               23\n",
       "Sep. 2021               22\n",
       "Oct. 2021               21\n",
       "Nov. 2021               20\n",
       "Dec. 2021               22\n",
       "Jan. 2022               24\n",
       "Feb. 2022               25\n",
       "Mar. 2022               25\n",
       "Apr. 2022               23\n",
       "May. 2022               24\n",
       "dtype: int64"
      ]
     },
     "execution_count": 40,
     "metadata": {},
     "output_type": "execute_result"
    }
   ],
   "source": [
    "#Finding the null value\n",
    "private_df.isnull().sum()"
   ]
  },
  {
   "cell_type": "code",
   "execution_count": 41,
   "metadata": {},
   "outputs": [
    {
     "data": {
      "text/plain": [
       "0"
      ]
     },
     "execution_count": 41,
     "metadata": {},
     "output_type": "execute_result"
    }
   ],
   "source": [
    "#Finding the duplicated value\n",
    "private_df.duplicated().sum()"
   ]
  },
  {
   "cell_type": "code",
   "execution_count": 42,
   "metadata": {},
   "outputs": [
    {
     "name": "stdout",
     "output_type": "stream",
     "text": [
      "        Centre  2018-04-15 00:00:00  2018-05-15 00:00:00  2018-06-15 00:00:00  \\\n",
      "0         Ajax             0.994276             0.950662             0.988589   \n",
      "1     Alliston             0.932826             0.981863             0.992407   \n",
      "2  Amherstburg             0.982065             0.984608             0.949894   \n",
      "3     Arnprior             0.955043             0.999997             1.000000   \n",
      "4       Aurora             1.000000             0.999948             0.997395   \n",
      "\n",
      "   2018-07-15 00:00:00  2018-08-15 00:00:00  2018-09-15 00:00:00  \\\n",
      "0             0.982088             0.982063             0.903082   \n",
      "1             0.993955             0.997734             0.992133   \n",
      "2             0.971210             0.964326             0.999152   \n",
      "3             0.994981             0.999989             0.995487   \n",
      "4             1.000000             0.999892             0.910746   \n",
      "\n",
      "   2018-10-15 00:00:00  2018-11-15 00:00:00  2018-12-15 00:00:00  ...  \\\n",
      "0             0.948973             0.986436             0.997233  ...   \n",
      "1             0.998889             0.999972             0.999004  ...   \n",
      "2             0.964737             0.970942             0.952444  ...   \n",
      "3             1.000000             0.917160                  NaN  ...   \n",
      "4             0.944458             0.999554             0.998653  ...   \n",
      "\n",
      "   Aug. 2021  Sep. 2021  Oct. 2021  Nov. 2021  Dec. 2021  Jan. 2022  \\\n",
      "0   0.898613   0.848938   0.775123   0.570099   0.942391   0.869822   \n",
      "1   0.996418   0.924764   0.945451   0.881670   1.000000   1.000000   \n",
      "2   0.675987   0.647346   0.774607   0.992123   1.000000   1.000000   \n",
      "3   0.991105   0.982412   1.000000   1.000000        NaN        NaN   \n",
      "4   0.979599   0.964851   0.944089   0.913661   0.949868   0.665341   \n",
      "\n",
      "   Feb. 2022  Mar. 2022  Apr. 2022  May. 2022  \n",
      "0   0.379473   0.871553   0.962768   0.923650  \n",
      "1   1.000000   0.998918   1.000000   1.000000  \n",
      "2   1.000000   1.000000   1.000000   1.000000  \n",
      "3        NaN        NaN        NaN        NaN  \n",
      "4   0.968193   0.940840   0.981392   0.968483  \n",
      "\n",
      "[5 rows x 51 columns]\n"
     ]
    }
   ],
   "source": [
    "#Giving name to column1 \n",
    "private_df.rename(columns={private_df.columns[0]:\"Centre\"}, inplace=True)\n",
    "print(private_df.head())"
   ]
  },
  {
   "cell_type": "code",
   "execution_count": 43,
   "metadata": {},
   "outputs": [
    {
     "name": "stdout",
     "output_type": "stream",
     "text": [
      "Index(['Centre', 'Apr 2018', 'May 2018', 'Jun 2018', 'Jul 2018', 'Aug 2018',\n",
      "       'Sep 2018', 'Oct 2018', 'Nov 2018', 'Dec 2018', 'Jan 2019', 'Feb 2019',\n",
      "       'Mar 2019', 'Apr 2019', 'May 2019', 'Jun 2019', 'Jul 2019', 'Aug 2019',\n",
      "       'Sep 2019', 'Oct 2019', 'Nov 2019', 'Dec 2019', 'Jan 2020', 'Feb 2020',\n",
      "       'Mar 2020', 'Apr 2020', 'May 2020', 'Jun 2020', 'Jul 2020', 'Aug 2020',\n",
      "       'Sep 2020', 'Oct 2020', 'Nov 2020', 'Dec 2020', 'Jan 2021', 'Feb 2021',\n",
      "       'Mar 2021', 'Apr 2021', 'May 2021', 'Jun 2021', 'Jul 2021', 'Aug 2021',\n",
      "       'Sep 2021', 'Oct 2021', 'Nov 2021', 'Dec 2021', 'Jan 2022', 'Feb 2022',\n",
      "       'Mar 2022', 'Apr 2022', 'May 2022'],\n",
      "      dtype='object')\n"
     ]
    }
   ],
   "source": [
    "# Update column names to a short format\n",
    "private_df.columns = [\n",
    "    pd.to_datetime(col, errors='coerce').strftime('%b %Y') if pd.to_datetime(col, errors='coerce') is not pd.NaT else col\n",
    "    for col in private_df.columns\n",
    "]\n",
    "\n",
    "# Display the updated column names\n",
    "print(private_df.columns)"
   ]
  },
  {
   "cell_type": "code",
   "execution_count": 44,
   "metadata": {},
   "outputs": [],
   "source": [
    "# Reshape the data\n",
    "new_private_df = pd.melt(\n",
    "    private_df,\n",
    "    id_vars=\"Centre\", \n",
    "    var_name=\"Month\",\n",
    "    value_name=\"Percentage_Waiting\"\n",
    ")"
   ]
  },
  {
   "cell_type": "code",
   "execution_count": 45,
   "metadata": {},
   "outputs": [
    {
     "data": {
      "text/html": [
       "<div>\n",
       "<style scoped>\n",
       "    .dataframe tbody tr th:only-of-type {\n",
       "        vertical-align: middle;\n",
       "    }\n",
       "\n",
       "    .dataframe tbody tr th {\n",
       "        vertical-align: top;\n",
       "    }\n",
       "\n",
       "    .dataframe thead th {\n",
       "        text-align: right;\n",
       "    }\n",
       "</style>\n",
       "<table border=\"1\" class=\"dataframe\">\n",
       "  <thead>\n",
       "    <tr style=\"text-align: right;\">\n",
       "      <th></th>\n",
       "      <th>Centre</th>\n",
       "      <th>Month</th>\n",
       "      <th>Percentage_Waiting</th>\n",
       "    </tr>\n",
       "  </thead>\n",
       "  <tbody>\n",
       "    <tr>\n",
       "      <th>0</th>\n",
       "      <td>Ajax</td>\n",
       "      <td>Apr 2018</td>\n",
       "      <td>0.994276</td>\n",
       "    </tr>\n",
       "    <tr>\n",
       "      <th>1</th>\n",
       "      <td>Alliston</td>\n",
       "      <td>Apr 2018</td>\n",
       "      <td>0.932826</td>\n",
       "    </tr>\n",
       "    <tr>\n",
       "      <th>2</th>\n",
       "      <td>Amherstburg</td>\n",
       "      <td>Apr 2018</td>\n",
       "      <td>0.982065</td>\n",
       "    </tr>\n",
       "    <tr>\n",
       "      <th>3</th>\n",
       "      <td>Arnprior</td>\n",
       "      <td>Apr 2018</td>\n",
       "      <td>0.955043</td>\n",
       "    </tr>\n",
       "    <tr>\n",
       "      <th>4</th>\n",
       "      <td>Aurora</td>\n",
       "      <td>Apr 2018</td>\n",
       "      <td>1.000000</td>\n",
       "    </tr>\n",
       "  </tbody>\n",
       "</table>\n",
       "</div>"
      ],
      "text/plain": [
       "        Centre     Month  Percentage_Waiting\n",
       "0         Ajax  Apr 2018            0.994276\n",
       "1     Alliston  Apr 2018            0.932826\n",
       "2  Amherstburg  Apr 2018            0.982065\n",
       "3     Arnprior  Apr 2018            0.955043\n",
       "4       Aurora  Apr 2018            1.000000"
      ]
     },
     "execution_count": 45,
     "metadata": {},
     "output_type": "execute_result"
    }
   ],
   "source": [
    "new_private_df.head()"
   ]
  },
  {
   "cell_type": "code",
   "execution_count": 46,
   "metadata": {},
   "outputs": [
    {
     "data": {
      "text/plain": [
       "Centre                   0\n",
       "Month                    0\n",
       "Percentage_Waiting    1682\n",
       "dtype: int64"
      ]
     },
     "execution_count": 46,
     "metadata": {},
     "output_type": "execute_result"
    }
   ],
   "source": [
    "new_private_df.isnull().sum()"
   ]
  },
  {
   "cell_type": "code",
   "execution_count": 47,
   "metadata": {},
   "outputs": [],
   "source": [
    "# Group by 'Centre' and calculate the mean for each center\n",
    "center_means = new_private_df.groupby('Centre')['Percentage_Waiting'].transform('mean')"
   ]
  },
  {
   "cell_type": "code",
   "execution_count": 48,
   "metadata": {},
   "outputs": [],
   "source": [
    "# Fill missing values with the mean of the specific center\n",
    "new_private_df['Percentage_Waiting'] = new_private_df['Percentage_Waiting'].fillna(center_means)"
   ]
  },
  {
   "cell_type": "code",
   "execution_count": 49,
   "metadata": {},
   "outputs": [
    {
     "data": {
      "text/plain": [
       "Centre                0\n",
       "Month                 0\n",
       "Percentage_Waiting    0\n",
       "dtype: int64"
      ]
     },
     "execution_count": 49,
     "metadata": {},
     "output_type": "execute_result"
    }
   ],
   "source": [
    "new_private_df.isnull().sum()"
   ]
  },
  {
   "cell_type": "markdown",
   "metadata": {},
   "source": [
    "Creating Visualization"
   ]
  },
  {
   "cell_type": "code",
   "execution_count": 50,
   "metadata": {},
   "outputs": [],
   "source": [
    "# Add a Year column by extracting from the Month column\n",
    "new_public_df['Year'] = pd.to_datetime(new_public_df['Month'], format='%b %Y').dt.year\n",
    "new_private_df['Year'] = pd.to_datetime(new_private_df['Month'], format='%b %Y').dt.year\n"
   ]
  },
  {
   "cell_type": "code",
   "execution_count": 51,
   "metadata": {},
   "outputs": [],
   "source": [
    "# Aggregate data by year\n",
    "public_yearly_avg = new_public_df.groupby('Year')['Percentage_Waiting'].mean().reset_index()\n",
    "private_yearly_avg = new_private_df.groupby('Year')['Percentage_Waiting'].mean().reset_index()\n"
   ]
  },
  {
   "cell_type": "code",
   "execution_count": 52,
   "metadata": {},
   "outputs": [
    {
     "data": {
      "text/html": [
       "<div>\n",
       "<style scoped>\n",
       "    .dataframe tbody tr th:only-of-type {\n",
       "        vertical-align: middle;\n",
       "    }\n",
       "\n",
       "    .dataframe tbody tr th {\n",
       "        vertical-align: top;\n",
       "    }\n",
       "\n",
       "    .dataframe thead th {\n",
       "        text-align: right;\n",
       "    }\n",
       "</style>\n",
       "<table border=\"1\" class=\"dataframe\">\n",
       "  <thead>\n",
       "    <tr style=\"text-align: right;\">\n",
       "      <th></th>\n",
       "      <th>Year</th>\n",
       "      <th>Percentage_Waiting</th>\n",
       "    </tr>\n",
       "  </thead>\n",
       "  <tbody>\n",
       "    <tr>\n",
       "      <th>0</th>\n",
       "      <td>2018</td>\n",
       "      <td>0.918067</td>\n",
       "    </tr>\n",
       "    <tr>\n",
       "      <th>1</th>\n",
       "      <td>2019</td>\n",
       "      <td>0.877915</td>\n",
       "    </tr>\n",
       "    <tr>\n",
       "      <th>2</th>\n",
       "      <td>2020</td>\n",
       "      <td>0.908642</td>\n",
       "    </tr>\n",
       "    <tr>\n",
       "      <th>3</th>\n",
       "      <td>2021</td>\n",
       "      <td>0.912294</td>\n",
       "    </tr>\n",
       "    <tr>\n",
       "      <th>4</th>\n",
       "      <td>2022</td>\n",
       "      <td>0.923290</td>\n",
       "    </tr>\n",
       "  </tbody>\n",
       "</table>\n",
       "</div>"
      ],
      "text/plain": [
       "   Year  Percentage_Waiting\n",
       "0  2018            0.918067\n",
       "1  2019            0.877915\n",
       "2  2020            0.908642\n",
       "3  2021            0.912294\n",
       "4  2022            0.923290"
      ]
     },
     "execution_count": 52,
     "metadata": {},
     "output_type": "execute_result"
    }
   ],
   "source": [
    "public_yearly_avg.head()"
   ]
  },
  {
   "cell_type": "code",
   "execution_count": 53,
   "metadata": {},
   "outputs": [
    {
     "data": {
      "image/png": "[encoded data removed]",
      "text/plain": [
       "<Figure size 1000x600 with 1 Axes>"
      ]
     },
     "metadata": {},
     "output_type": "display_data"
    }
   ],
   "source": [
    "# Combine public and private data for side-by-side bar plots\n",
    "combined_yearly_avg = pd.merge(public_yearly_avg, private_yearly_avg, on='Year', suffixes=(' _Public', '_Private'))\n",
    "\n",
    "ax = combined_yearly_avg.plot(\n",
    "    x='Year',\n",
    "    kind='bar',\n",
    "    figsize=(10, 6),\n",
    "    color=['skyblue', 'salmon'],\n",
    "    title='Yearly Average Percentage of Customers Who Waited Less Than 20 Minutes (Public vs. Private Service Ontario Centers)',\n",
    "    ylabel='Average Percentage of Customers Waiting Less Than 20 Minutes',\n",
    "    legend=True\n",
    ")\n",
    "\n",
    "# Add data labels on top of each bar\n",
    "for i in ax.containers:\n",
    "    ax.bar_label(i, labels=[f'{v.get_height():.2f}' for v in i], label_type='edge', fontsize=8, padding=3)\n",
    "\n",
    "# Adjust the legend position to be outside the graph\n",
    "plt.legend(\n",
    "    title=\"Service Type\",\n",
    "    bbox_to_anchor=(1, 1),\n",
    "    loc='upper left'\n",
    "    )\n",
    "\n",
    "plt.xticks(rotation=45)\n",
    "plt.tight_layout()\n",
    "plt.show()\n"
   ]
  },
  {
   "cell_type": "code",
   "execution_count": null,
   "metadata": {},
   "outputs": [],
   "source": [
    "# Export the cleaned DataFrame to an Excel file\n",
    "with pd.ExcelWriter('serviceontario_WaitTimes.xlsx') as writer:\n",
    "    new_public_df.to_excel(writer, sheet_name='Publicly-Operated Offices', index=False)\n",
    "    new_private_df.to_excel(writer, sheet_name='Privately-Operated Offices', index=False)\n"
   ]
  },
  {
   "cell_type": "code",
   "execution_count": null,
   "metadata": {},
   "outputs": [],
   "source": []
  }
 ],
 "metadata": {
  "kernelspec": {
   "display_name": "dsi_participant",
   "language": "python",
   "name": "python3"
  },
  "language_info": {
   "codemirror_mode": {
    "name": "ipython",
    "version": 3
   },
   "file_extension": ".py",
   "mimetype": "text/x-python",
   "name": "python",
   "nbconvert_exporter": "python",
   "pygments_lexer": "ipython3",
   "version": "3.9.15"
  }
 },
 "nbformat": 4,
 "nbformat_minor": 2
}
